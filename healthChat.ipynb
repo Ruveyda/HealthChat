{
  "nbformat": 4,
  "nbformat_minor": 0,
  "metadata": {
    "colab": {
      "name": "healthChat.ipynb",
      "provenance": [],
      "include_colab_link": true
    },
    "kernelspec": {
      "name": "python3",
      "display_name": "Python 3"
    },
    "accelerator": "GPU"
  },
  "cells": [
    {
      "cell_type": "markdown",
      "metadata": {
        "id": "view-in-github",
        "colab_type": "text"
      },
      "source": [
        "<a href=\"https://colab.research.google.com/github/Ruveyda/HealthChat/blob/master/healthChat.ipynb\" target=\"_parent\"><img src=\"https://colab.research.google.com/assets/colab-badge.svg\" alt=\"Open In Colab\"/></a>"
      ]
    },
    {
      "cell_type": "markdown",
      "metadata": {
        "id": "67q-VGz_XoB8",
        "colab_type": "text"
      },
      "source": [
        "**Turkish Health-Chatbot**"
      ]
    },
    {
      "cell_type": "code",
      "metadata": {
        "id": "lKRjzOp6XLkU",
        "colab_type": "code",
        "colab": {}
      },
      "source": [
        "# libraries\n",
        "\n",
        "import pandas as pd\n",
        "from sklearn import preprocessing\n",
        "from sklearn.tree import DecisionTreeClassifier,_tree\n",
        "import numpy as np\n",
        "from sklearn.model_selection import train_test_split\n",
        "from sklearn import model_selection\n",
        "from sklearn.tree import export_graphviz\n",
        "import warnings\n",
        "warnings.filterwarnings(\"ignore\", category=DeprecationWarning)"
      ],
      "execution_count": 0,
      "outputs": []
    },
    {
      "cell_type": "code",
      "metadata": {
        "id": "8fRuLrCvYV7H",
        "colab_type": "code",
        "colab": {}
      },
      "source": [
        "train = pd.read_csv('Training.csv')\n",
        "test = pd.read_csv('Testing.csv')"
      ],
      "execution_count": 0,
      "outputs": []
    },
    {
      "cell_type": "code",
      "metadata": {
        "id": "ntASTKolYk0X",
        "colab_type": "code",
        "colab": {}
      },
      "source": [
        "cols = train.columns\n",
        "cols = cols[:-1]"
      ],
      "execution_count": 0,
      "outputs": []
    },
    {
      "cell_type": "code",
      "metadata": {
        "id": "q2hWy6UaYtgW",
        "colab_type": "code",
        "colab": {}
      },
      "source": [
        "x = train[cols]\n",
        "y = train['tahmin']\n",
        "y1 = y"
      ],
      "execution_count": 0,
      "outputs": []
    },
    {
      "cell_type": "code",
      "metadata": {
        "id": "F88YuRecll0v",
        "colab_type": "code",
        "colab": {}
      },
      "source": [
        "reduced_data = train.groupby(train['tahmin']).max()"
      ],
      "execution_count": 0,
      "outputs": []
    },
    {
      "cell_type": "code",
      "metadata": {
        "id": "lvuT_WmLZCz2",
        "colab_type": "code",
        "colab": {}
      },
      "source": [
        "le = preprocessing.LabelEncoder()\n",
        "le.fit(y)\n",
        "y = le.transform(y)"
      ],
      "execution_count": 0,
      "outputs": []
    },
    {
      "cell_type": "code",
      "metadata": {
        "id": "1d6alVDbZNU3",
        "colab_type": "code",
        "colab": {}
      },
      "source": [
        "x_train, x_test, y_train, y_test = train_test_split(x,y, test_size=0.33, random_state=42)\n",
        "testx = test[cols]\n",
        "testy= test['tahmin']\n",
        "testy = le.transform(testy)"
      ],
      "execution_count": 0,
      "outputs": []
    },
    {
      "cell_type": "code",
      "metadata": {
        "id": "lclatKYCZmpv",
        "colab_type": "code",
        "colab": {}
      },
      "source": [
        "clf1  = DecisionTreeClassifier()\n",
        "clf = clf1.fit(x_train,y_train)"
      ],
      "execution_count": 0,
      "outputs": []
    },
    {
      "cell_type": "code",
      "metadata": {
        "id": "EOxjBCEpbgr_",
        "colab_type": "code",
        "colab": {}
      },
      "source": [
        "importances = clf.feature_importances_\n",
        "indices = np.argsort(importances)[::-1]\n",
        "features = cols"
      ],
      "execution_count": 0,
      "outputs": []
    },
    {
      "cell_type": "code",
      "metadata": {
        "id": "1nuCe446bnJH",
        "colab_type": "code",
        "outputId": "2e14b651-d7c7-4635-a090-39f45629316b",
        "colab": {
          "base_uri": "https://localhost:8080/",
          "height": 185
        }
      },
      "source": [
        "#feature_importances\n",
        "for f in range(10):\n",
        "    print(\"%d. feature %d - %s (%f)\" % (f + 1, indices[f], features[indices[f]] ,importances[indices[f]]))"
      ],
      "execution_count": 10,
      "outputs": [
        {
          "output_type": "stream",
          "text": [
            "1. feature 54 - burun_akması (0.026703)\n",
            "2. feature 93 - iç_kaşıntı (0.026649)\n",
            "3. feature 79 - kalça_eklemi_ağrısı (0.026626)\n",
            "4. feature 104 - iştah_artışı (0.026390)\n",
            "5. feature 128 - tırnaklarda_iltihap (0.025712)\n",
            "6. feature 73 - el_ve_ayak_şişkinliği (0.025479)\n",
            "7. feature 118 - balgamda_kan (0.024874)\n",
            "8. feature 131 - sarı_kabuk_sızıntı (0.024798)\n",
            "9. feature 2 - nodal_deri_döküntüleri (0.024735)\n",
            "10. feature 86 - kararsızlık (0.024486)\n"
          ],
          "name": "stdout"
        }
      ]
    },
    {
      "cell_type": "code",
      "metadata": {
        "id": "WxD-F3aNb6RH",
        "colab_type": "code",
        "outputId": "45b17201-08e1-4fb0-9bb0-91f6c9313971",
        "colab": {
          "base_uri": "https://localhost:8080/",
          "height": 34
        }
      },
      "source": [
        "print(\"Lütfen aşağıda verilen hastalık belirtilerine sahipseniz evet, değilseniz hayır yazın.\") "
      ],
      "execution_count": 11,
      "outputs": [
        {
          "output_type": "stream",
          "text": [
            "Lütfen aşağıda verilen hastalık belirtilerine sahipseniz evet, değilseniz hayır yazın.\n"
          ],
          "name": "stdout"
        }
      ]
    },
    {
      "cell_type": "code",
      "metadata": {
        "id": "gAcw0YBgbzO_",
        "colab_type": "code",
        "colab": {
          "base_uri": "https://localhost:8080/",
          "height": 390
        },
        "outputId": "9f7231bb-0c3f-4aa8-b591-9312b2fc5c0d"
      },
      "source": [
        "def print_disease(node):\n",
        "    print(\"Node : \",node)\n",
        "    node = node[0]\n",
        "    print(\"Length of Node : \",len(node))\n",
        "    val  = node.nonzero() \n",
        "    print(\"Value : \", val)\n",
        "    disease = le.inverse_transform(val[0])\n",
        "    return disease\n",
        "  \n",
        "def tree_to_code(tree, feature_names):\n",
        "    tree_ = tree.tree_\n",
        "    #print(tree_)\n",
        "    feature_name = [\n",
        "        feature_names[i] if i != _tree.TREE_UNDEFINED else \"undefined!\"\n",
        "        for i in tree_.feature\n",
        "    ]\n",
        "    #print(\"def tree({}):\".format(\", \".join(feature_names)))\n",
        "    symptoms_present = []\n",
        "    \n",
        "    def recurse(node, depth):\n",
        "        indent = \"  \" * depth\n",
        "        if tree_.feature[node] != _tree.TREE_UNDEFINED:\n",
        "            name = feature_name[node]\n",
        "            threshold = tree_.threshold[node]\n",
        "            print(name + \" ?\")\n",
        "            ans = input()\n",
        "            ans = ans.lower()\n",
        "            if ans == 'evet':\n",
        "                val = 1\n",
        "                #print(\"threshold is : \",threshold)\n",
        "            else:\n",
        "                #print(\"threshold is : \",threshold)\n",
        "                val = 0\n",
        "            if  val <= threshold:\n",
        "                recurse(tree_.children_left[node], depth + 1)\n",
        "            else:\n",
        "                symptoms_present.append(name)\n",
        "                recurse(tree_.children_right[node], depth + 1)\n",
        "        else:\n",
        "            present_disease = print_disease(tree_.value[node])\n",
        "            print( \"Şu hastalığa sahip olabilirsiniz : \" +  present_disease )\n",
        "            red_cols = reduced_data.columns \n",
        "            symptoms_given = red_cols[reduced_data.loc[present_disease].values[0].nonzero()]\n",
        "            print(\"Mevcut semptomlar : \" + str(list(symptoms_present)))\n",
        "            print(\"Verilen semptomlar :\"  +  str(list(symptoms_given)) )  \n",
        "            confidence_level = (1.0*len(symptoms_present))/len(symptoms_given)\n",
        "            print(\"Doğruluk seviyesi : \" + str(confidence_level))\n",
        "\n",
        "    recurse(0, 1)\n",
        "\n",
        "tree_to_code(clf,cols)"
      ],
      "execution_count": 12,
      "outputs": [
        {
          "output_type": "stream",
          "text": [
            "burun_akması ?\n",
            "hayır\n",
            "iç_kaşıntı ?\n",
            "hayır\n",
            "kalça_eklemi_ağrısı ?\n",
            "hayır\n",
            "iştah_artışı ?\n",
            "hayır\n",
            "tırnaklarda_iltihap ?\n",
            "hayır\n",
            "el_ve_ayak_şişkinliği ?\n",
            "evet\n",
            "Node :  [[ 0.  0.  0.  0.  0.  0.  0.  0.  0.  0.  0.  0.  0.  0.  0.  0.  0.  0.\n",
            "   0. 82.  0.  0.  0.  0.  0.  0.  0.  0.  0.  0.  0.  0.  0.  0.  0.  0.\n",
            "   0.  0.  0.  0.  0.]]\n",
            "Length of Node :  41\n",
            "Value :  (array([19]),)\n",
            "['Şu hastalığa sahip olabilirsiniz : Hipotroidi']\n",
            "Mevcut semptomlar : ['el_ve_ayak_şişkinliği']\n",
            "Verilen semptomlar :['yorgunluk', 'kilo_alma', 'soğuk eller ve ayaklar', 'ruh_hali_değişimi', 'uyuşukluk', 'baş_dönmesi', 'yüz_ve_göz_şişmesi', 'troid_genişlemesi', 'tırnak_kırılganlığı', 'el_ve_ayak_şişkinliği', 'depresyon', 'sinirlilik', 'anormal_adet_düzeni']\n",
            "Doğruluk seviyesi : 0.07692307692307693\n"
          ],
          "name": "stdout"
        }
      ]
    }
  ]
}